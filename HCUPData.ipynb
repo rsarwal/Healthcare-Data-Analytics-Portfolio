import pandas as pd

# Load datasets
hcup_data = pd.read_csv("C:/Users/rsarw/OneDrive/Desktop/Healthcare-Data-Analytics-Portfolio/Value_Based_Care_vs_Fee_For_Service_Analysis/HCUPData/HCUPnet_Analysis_National_IP_All-Stays_Data.csv")
ed_data = pd.read_csv("C:/Users/rsarw/OneDrive/Desktop/Healthcare-Data-Analytics-Portfolio/Value_Based_Care_vs_Fee_For_Service_Analysis/HCUPData/HCUP_ ED_Data.csv")

# Fill missing values with 0
hcup_data.fillna(0, inplace=True)
ed_data.fillna(0, inplace=True)

# Convert numeric columns
numeric_columns_hcup = [
    'Number of Discharges', 'Average Length of Stay (in days)', 
    'Average Hospital Charges per Stay (in $)', 'Average Hospital Costs per Stay (in $)',
    'Discharge (N): Home Health Care', 'Discharge (N): In-Hospital Deaths'
]
hcup_data[numeric_columns_hcup] = hcup_data[numeric_columns_hcup].apply(pd.to_numeric)

numeric_columns_ed = ['ED Visits Resulting in Hospital Admission', 'All ED visits']
ed_data[numeric_columns_ed] = ed_data[numeric_columns_ed].apply(pd.to_numeric)
import matplotlib.pyplot as plt

plt.figure(figsize=(10, 6))
plt.plot(hcup_data['Year'], hcup_data['Number of Discharges'], marker='o', label='Number of Discharges')
plt.title('Number of Discharges Over the Years')
plt.xlabel('Year')
plt.ylabel('Number of Discharges')
plt.grid(True)
plt.legend()
plt.show()
plt.figure(figsize=(10, 6))
plt.plot(hcup_data['Year'], hcup_data['Average Length of Stay (in days)'], marker='o', label='Average Length of Stay')
plt.title('Average Length of Stay Over the Years')
plt.xlabel('Year')
plt.ylabel('Average Length of Stay (in days)')
plt.grid(True)
plt.legend()
plt.show()

plt.figure(figsize=(10, 6))
plt.plot(hcup_data['Year'], hcup_data['Average Hospital Charges per Stay (in $)'], marker='o', label='Average Hospital Charges per Stay')
plt.title('Average Hospital Charges per Stay Over the Years')
plt.xlabel('Year')
plt.ylabel('Average Hospital Charges per Stay (in $)')
plt.grid(True)
plt.legend()
plt.show()

hcup_data['YoY Change in Charges (%)'] = hcup_data['Average Hospital Charges per Stay (in $)'].pct_change() * 100

plt.figure(figsize=(10, 6))
plt.plot(hcup_data['Year'], hcup_data['YoY Change in Charges (%)'], marker='o', label='YoY Change in Charges (%)')
plt.title('Year-over-Year Changes in Hospital Charges')
plt.xlabel('Year')
plt.ylabel('Percentage Change (%)')
plt.grid(True)
plt.legend()
plt.show()

hcup_data['In-Hospital Death Rate (%)'] = (hcup_data['Discharge (N): In-Hospital Deaths'] / hcup_data['Number of Discharges']) * 100

plt.figure(figsize=(10, 6))
plt.plot(hcup_data['Year'], hcup_data['In-Hospital Death Rate (%)'], marker='o', label='In-Hospital Death Rate (%)')
plt.title('In-Hospital Death Rate Over the Years')
plt.xlabel('Year')
plt.ylabel('In-Hospital Death Rate (%)')
plt.grid(True)
plt.legend()
plt.show()

ed_data['ED Admission Rate (%)'] = (ed_data['ED Visits Resulting in Hospital Admission'] / ed_data['All ED visits']) * 100

plt.figure(figsize=(10, 6))
plt.plot(ed_data['Year'], ed_data['ED Admission Rate (%)'], marker='o', label='ED Admission Rate (%)')
plt.title('ED Admission Rate Over the Years')
plt.xlabel('Year')
plt.ylabel('ED Admission Rate (%)')
plt.grid(True)
plt.legend()
plt.show()


hcup_data['Home Health Care Rate (%)'] = (hcup_data['Discharge (N): Home Health Care'] / hcup_data['Number of Discharges']) * 100

plt.figure(figsize=(10, 6))
plt.plot(hcup_data['Year'], hcup_data['Home Health Care Rate (%)'], marker='o', label='Home Health Care Rate (%)')
plt.title('Home Health Care Rate Over the Years')
plt.xlabel('Year')
plt.ylabel('Home Health Care Rate (%)')
plt.grid(True)
plt.legend()
plt.show()


